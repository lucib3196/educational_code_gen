{
 "cells": [
  {
   "cell_type": "code",
   "execution_count": 2,
   "metadata": {},
   "outputs": [
    {
     "name": "stdout",
     "output_type": "stream",
     "text": [
      "DataFrame exported to module_review.xlsx\n"
     ]
    }
   ],
   "source": [
    "import os\n",
    "import pandas as pd\n",
    "from datetime import datetime\n",
    "\n",
    "\n",
    "def create_module_dataframe(root_folder, file_to_check, folder_to_exclude):\n",
    "    module_data = []\n",
    "    current_date = datetime.now().strftime('%Y-%m-%d')  # Get the current date\n",
    "    \n",
    "    for folder_path, dirs, files in os.walk(root_folder):\n",
    "        if not dirs and not files:\n",
    "            continue\n",
    "        if folder_to_exclude in folder_path:\n",
    "            continue  # Skip the folder and its subfolders\n",
    "        if root_folder in folder_path:\n",
    "            folder_path = folder_path.replace(root_folder, '').lstrip(os.sep)\n",
    "        if file_to_check in files:\n",
    "            module_data.append({'Module Name': folder_path, 'Assigned Reviewer': '', 'Review Status': '', 'Comments/Notes': '', 'Date Added': current_date})\n",
    "        \n",
    "    df = pd.DataFrame(module_data)\n",
    "    return df\n",
    "            \n",
    "    \n",
    "                \n",
    "# Set the path to the uploaded folder\n",
    "root_folder = r'question_output'\n",
    "folder_exclude = \"Completed\"\n",
    "file_check = \"question.html\"\n",
    "df = create_module_dataframe(root_folder,folder_to_exclude=folder_exclude, file_to_check=file_check)\n",
    "\n",
    "# Export DataFrame to Excel\n",
    "output_excel_file = 'module_review.xlsx'  # Specify the name of the Excel file\n",
    "df.to_excel(output_excel_file, index=False)\n",
    "\n",
    "print(f\"DataFrame exported to {output_excel_file}\")\n"
   ]
  }
 ],
 "metadata": {
  "kernelspec": {
   "display_name": "venv",
   "language": "python",
   "name": "python3"
  },
  "language_info": {
   "codemirror_mode": {
    "name": "ipython",
    "version": 3
   },
   "file_extension": ".py",
   "mimetype": "text/x-python",
   "name": "python",
   "nbconvert_exporter": "python",
   "pygments_lexer": "ipython3",
   "version": "3.11.5"
  }
 },
 "nbformat": 4,
 "nbformat_minor": 2
}
